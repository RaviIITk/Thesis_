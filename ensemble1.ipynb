{
 "cells": [
  {
   "cell_type": "code",
   "execution_count": 102,
   "metadata": {},
   "outputs": [],
   "source": [
    "import numpy as np\n",
    "import cv2\n",
    "\n",
    "import PIL.Image as Image\n",
    "import os\n",
    "\n",
    "import tensorflow as tf\n",
    "import tensorflow_hub as hub\n",
    "\n",
    "from tensorflow import keras\n",
    "\n",
    "from tensorflow.keras import layers\n",
    "from tensorflow.keras import activations\n",
    "from tensorflow.keras.models import Sequential\n",
    "\n",
    "import pathlib\n",
    "\n",
    "from tensorflow.keras.utils import to_categorical\n",
    "from tensorflow.keras.optimizers import Adam\n",
    "from sklearn.model_selection import train_test_split\n",
    "from keras.layers import Concatenate"
   ]
  },
  {
   "cell_type": "code",
   "execution_count": 103,
   "metadata": {},
   "outputs": [],
   "source": [
    "import numpy as np\n",
    "import tensorflow as tf\n",
    "from tensorflow.keras.layers import *\n",
    "import matplotlib.pyplot as plt"
   ]
  },
  {
   "cell_type": "code",
   "execution_count": 104,
   "metadata": {},
   "outputs": [
    {
     "name": "stdout",
     "output_type": "stream",
     "text": [
      "Wrong path: Image data/e0_Normal/test1.tif.gz\n",
      "Wrong path: Image data/e0_Normal/test.tif.gz\n",
      "Wrong path: Image data/e0_Normal/test2.gif.gz\n"
     ]
    }
   ],
   "source": [
    "\n",
    "IMG_SIZE = (224,224)\n",
    "IMG_SHAPE = IMG_SIZE + (3,)\n",
    "\n",
    "\n",
    "data_dir = pathlib.Path('./Image data')\n",
    "images=list(data_dir.glob('*/*.tif'))\n",
    "\n",
    "image_dic= {\n",
    "    'normal' : list(data_dir.glob(\"e0_Normal/*\")),\n",
    "    'hole':list(data_dir.glob(\"e1_hole/*\")),\n",
    "    'stain' : list(data_dir.glob(\"e2_Stain/*\")),\n",
    "    'net' :list(data_dir.glob(\"e3_Net/*\")),\n",
    "    'color' :list(data_dir.glob(\"e4_colour/*\")),\n",
    "    'crease': list(data_dir.glob(\"e5_Crease/*\")),\n",
    "}\n",
    "\n",
    "\n",
    "\n",
    "labels = {\n",
    "    'normal':0,\n",
    "    'hole':1,\n",
    "    'stain':2,\n",
    "    'net':3,\n",
    "    'color':4,\n",
    "    'crease':5,\n",
    "}\n",
    "\n",
    "\n",
    "\n",
    "X,y=[],[]\n",
    "\n",
    "for name, images in image_dic.items():\n",
    "    for image in images:\n",
    "        img = cv2.imread(str(image))\n",
    "        \n",
    "        \n",
    "        if img is None:\n",
    "            print('Wrong path:', image)\n",
    "        else:\n",
    "            resized = cv2.resize(img,IMG_SIZE)\n",
    "            X.append(resized)\n",
    "            y.append(labels[name])\n",
    "\n",
    "\n",
    "\n",
    "X = np.array(X)\n",
    "y= np.array(y)\n",
    "X_train, X_test, y_train,y_test = train_test_split(X,y,random_state=42, shuffle=True,test_size=0.3)\n",
    "X_train = X_train/255\n",
    "X_test = X_test/255"
   ]
  },
  {
   "cell_type": "code",
   "execution_count": 105,
   "metadata": {},
   "outputs": [],
   "source": [
    "mobile_net= tf.keras.applications.mobilenet.MobileNet()\n"
   ]
  },
  {
   "cell_type": "code",
   "execution_count": 106,
   "metadata": {},
   "outputs": [],
   "source": [
    "model_mn = tf.keras.Sequential()\n",
    "for layes in mobile_net.layers[:-22]:\n",
    "    model_mn.add(layes)\n",
    "model_mn.add(tf.keras.layers.GlobalAveragePooling2D())\n",
    "model_mn.add(tf.keras.layers.Dense(60, activation='tanh'))\n",
    "model_mn.add(tf.keras.layers.Dropout(0.6))\n",
    "model_mn.add(tf.keras.layers.Dense(60,activation='tanh',name='predictions'))\n",
    "model_mn.add(tf.keras.layers.Dense(6, activation='softmax'))\n",
    "\n",
    "\n",
    "\n",
    "for layers in model_mn.layers[:-19]:\n",
    "    layers.trainable= False"
   ]
  },
  {
   "cell_type": "code",
   "execution_count": 107,
   "metadata": {},
   "outputs": [],
   "source": [
    "comb_out = model_mn.layers[-1].output"
   ]
  },
  {
   "cell_type": "code",
   "execution_count": 108,
   "metadata": {},
   "outputs": [],
   "source": [
    "def submodel(model):\n",
    "    sep=[]\n",
    "\n",
    "    for i in range(6):\n",
    "        res = tf.keras.layers.Dense(1, activation='softmax')(comb_out)\n",
    "        sep.append(res)\n",
    "\n",
    "    out = Concatenate()(sep)\n",
    "    model = tf.keras.Model(mobile_net.input,out)\n",
    "\n",
    "    return model"
   ]
  },
  {
   "cell_type": "code",
   "execution_count": null,
   "metadata": {},
   "outputs": [],
   "source": []
  },
  {
   "cell_type": "code",
   "execution_count": 109,
   "metadata": {},
   "outputs": [
    {
     "name": "stdout",
     "output_type": "stream",
     "text": [
      "Epoch 1/4\n"
     ]
    },
    {
     "name": "stderr",
     "output_type": "stream",
     "text": [
      "2023-02-10 12:39:05.120650: I tensorflow/core/grappler/optimizers/custom_graph_optimizer_registry.cc:113] Plugin optimizer for device_type GPU is enabled.\n"
     ]
    },
    {
     "name": "stdout",
     "output_type": "stream",
     "text": [
      "27/27 [==============================] - ETA: 0s - loss: 1.8569 - acc: 0.2506"
     ]
    },
    {
     "name": "stderr",
     "output_type": "stream",
     "text": [
      "2023-02-10 12:39:14.879435: I tensorflow/core/grappler/optimizers/custom_graph_optimizer_registry.cc:113] Plugin optimizer for device_type GPU is enabled.\n"
     ]
    },
    {
     "name": "stdout",
     "output_type": "stream",
     "text": [
      "27/27 [==============================] - 14s 414ms/step - loss: 1.8569 - acc: 0.2506 - val_loss: 1.6986 - val_acc: 0.2459\n",
      "Epoch 2/4\n",
      "27/27 [==============================] - 8s 299ms/step - loss: 1.5603 - acc: 0.3492 - val_loss: 1.5502 - val_acc: 0.3149\n",
      "Epoch 3/4\n",
      "27/27 [==============================] - 8s 301ms/step - loss: 1.4137 - acc: 0.4192 - val_loss: 1.5532 - val_acc: 0.3260\n",
      "Epoch 4/4\n",
      "27/27 [==============================] - 8s 297ms/step - loss: 1.2882 - acc: 0.4679 - val_loss: 1.4262 - val_acc: 0.3453\n"
     ]
    },
    {
     "data": {
      "text/plain": [
       "<keras.callbacks.History at 0x17d4f4340>"
      ]
     },
     "execution_count": 109,
     "metadata": {},
     "output_type": "execute_result"
    }
   ],
   "source": [
    "model_mn.compile(optimizer = Adam(learning_rate=0.0012), loss = tf.keras.losses.CategoricalCrossentropy(from_logits=True),metrics=['acc'])\n",
    "model_mn.fit(X_train,to_categorical(y_train),epochs=4,validation_data=(X_test,to_categorical(y_test)))"
   ]
  },
  {
   "cell_type": "code",
   "execution_count": 110,
   "metadata": {},
   "outputs": [
    {
     "name": "stdout",
     "output_type": "stream",
     "text": [
      "12/12 [==============================] - 2s 184ms/step - loss: 1.4262 - acc: 0.3453\n"
     ]
    },
    {
     "data": {
      "text/plain": [
       "[1.4261924028396606, 0.34530389308929443]"
      ]
     },
     "execution_count": 110,
     "metadata": {},
     "output_type": "execute_result"
    }
   ],
   "source": [
    "model_mn.evaluate(X_test,to_categorical(y_test))"
   ]
  },
  {
   "cell_type": "code",
   "execution_count": null,
   "metadata": {},
   "outputs": [],
   "source": []
  }
 ],
 "metadata": {
  "kernelspec": {
   "display_name": "thesis",
   "language": "python",
   "name": "python3"
  },
  "language_info": {
   "codemirror_mode": {
    "name": "ipython",
    "version": 3
   },
   "file_extension": ".py",
   "mimetype": "text/x-python",
   "name": "python",
   "nbconvert_exporter": "python",
   "pygments_lexer": "ipython3",
   "version": "3.10.8"
  },
  "orig_nbformat": 4,
  "vscode": {
   "interpreter": {
    "hash": "0910852971f271316cedd65fb9a6fba74ce8d38f423ea6cfef93e6992f0711c2"
   }
  }
 },
 "nbformat": 4,
 "nbformat_minor": 2
}
