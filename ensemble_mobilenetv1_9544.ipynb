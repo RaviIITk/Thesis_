{
 "cells": [
  {
   "cell_type": "code",
   "execution_count": 1,
   "metadata": {},
   "outputs": [],
   "source": [
    "import numpy as np\n",
    "import cv2\n",
    "\n",
    "import PIL.Image as Image\n",
    "import os\n",
    "\n",
    "import tensorflow as tf\n",
    "import tensorflow_hub as hub\n",
    "\n",
    "from tensorflow import keras\n",
    "\n",
    "from tensorflow.keras import layers\n",
    "from tensorflow.keras import activations\n",
    "from tensorflow.keras.models import Sequential\n",
    "\n",
    "import pathlib\n",
    "\n",
    "from tensorflow.keras.utils import to_categorical\n",
    "from tensorflow.keras.optimizers import Adam\n",
    "from sklearn.model_selection import train_test_split\n",
    "from keras.layers import Concatenate\n",
    "\n",
    "\n",
    "import warnings\n",
    "warnings.filterwarnings(\"ignore\")"
   ]
  },
  {
   "cell_type": "code",
   "execution_count": 2,
   "metadata": {},
   "outputs": [
    {
     "name": "stdout",
     "output_type": "stream",
     "text": [
      "Wrong path: Image data/e0_Normal/.DS_Store\n"
     ]
    }
   ],
   "source": [
    "\n",
    "IMG_SIZE = (224,224)\n",
    "IMG_SHAPE = IMG_SIZE + (3,)\n",
    "\n",
    "\n",
    "data_dir = pathlib.Path('./Image data')\n",
    "images=list(data_dir.glob('*/*.tif'))\n",
    "\n",
    "image_dic= {\n",
    "    'normal' : list(data_dir.glob(\"e0_Normal/*\")),\n",
    "    'hole':list(data_dir.glob(\"e1_hole/*\")),\n",
    "    'stain' : list(data_dir.glob(\"e2_Stain/*\")),\n",
    "    'net' :list(data_dir.glob(\"e3_Net/*\")),\n",
    "    'color' :list(data_dir.glob(\"e4_colour/*\")),\n",
    "    'crease': list(data_dir.glob(\"e5_Crease/*\")),\n",
    "}\n",
    "\n",
    "\n",
    "\n",
    "labels = {\n",
    "    'normal':0,\n",
    "    'hole':1,\n",
    "    'stain':2,\n",
    "    'net':3,\n",
    "    'color':4,\n",
    "    'crease':5,\n",
    "}\n",
    "\n",
    "\n",
    "\n",
    "X,y=[],[]\n",
    "\n",
    "for name, images in image_dic.items():\n",
    "    for image in images:\n",
    "        img = cv2.imread(str(image))\n",
    "        \n",
    "        \n",
    "        if img is None:\n",
    "            print('Wrong path:', image)\n",
    "        else:\n",
    "            resized = cv2.resize(img,IMG_SIZE)\n",
    "            X.append(resized)\n",
    "            y.append(labels[name])\n",
    "\n",
    "\n",
    "\n",
    "X = np.array(X)\n",
    "y= np.array(y)\n",
    "X_train, X_test, y_train,y_test = train_test_split(X,y,random_state=0, shuffle=True,test_size=0.2)\n",
    "X_train = X_train/255\n",
    "X_test = X_test/255"
   ]
  },
  {
   "cell_type": "code",
   "execution_count": 3,
   "metadata": {},
   "outputs": [],
   "source": [
    "# Create the base model from the pre-trained model MobileNet V2\n",
    "IMG_SHAPE = IMG_SIZE + (3,)\n",
    "# base_model = tf.keras.applications.mobilenet.MobileNet(input_shape=(224,224,3),\n",
    "#                                                include_top=False,\n",
    "#                                                weights='imagenet')\n"
   ]
  },
  {
   "cell_type": "code",
   "execution_count": 4,
   "metadata": {},
   "outputs": [
    {
     "name": "stdout",
     "output_type": "stream",
     "text": [
      "WARNING:tensorflow:`input_shape` is undefined or non-square, or `rows` is not in [128, 160, 192, 224]. Weights for input shape (224, 224) will be loaded as the default.\n"
     ]
    }
   ],
   "source": [
    "def ensemble(x, inputs, classes):\n",
    "    seps  =[]\n",
    "    for i in range(classes):\n",
    "        res=tf.keras.layers.GlobalAveragePooling2D()(x)\n",
    "        res = tf.keras.layers.Dense(128, activation='relu')(res)\n",
    "        res = tf.keras.layers.Dropout(0.4)(res)\n",
    "        res = tf.keras.layers.Dense(96, activation='relu')(res)\n",
    "        #res= tf.keras.layers.Dense(60,activation='relu',name='predictions'+str(i))(res)\n",
    "        #res = tf.keras.layers.Dense(64, activation='softmax')(res)\n",
    "        res = tf.keras.layers.Dense(32, activation='tanh')(res)\n",
    "\n",
    "        seps.append(res)\n",
    "    out= Concatenate()(seps)\n",
    "    out = tf.keras.layers.Dense(6, activation='softmax')(out)\n",
    "    model = tf.keras.Model(inputs,out)\n",
    "    return model\n",
    "input_img = tf.keras.Input(IMG_SHAPE, name='input')\n",
    "model1= tf.keras.applications.mobilenet.MobileNet(input_tensor = input_img, include_top= False)\n",
    "model_mn = tf.keras.Sequential()\n",
    "\n",
    "for layers in model1.layers[:50]:\n",
    "    model_mn.add(layers)\n",
    "\n",
    "inputs = tf.keras.Input(shape=(224, 224, 3))\n",
    "x= model_mn(inputs)\n",
    "main_model= ensemble(x,inputs,6)\n",
    "\n",
    "for layers in main_model.layers[45:50]:\n",
    "    layers.trainable= False\n",
    "\n",
    "main_model.compile(optimizer = Adam(learning_rate=0.0005), loss = tf.keras.losses.CategoricalCrossentropy(from_logits=True),metrics=['categorical_accuracy'])"
   ]
  },
  {
   "cell_type": "code",
   "execution_count": 5,
   "metadata": {},
   "outputs": [
    {
     "name": "stdout",
     "output_type": "stream",
     "text": [
      "Epoch 1/60\n"
     ]
    },
    {
     "name": "stderr",
     "output_type": "stream",
     "text": [
      "2023-04-05 11:07:52.753834: W tensorflow/tsl/platform/profile_utils/cpu_utils.cc:128] Failed to get CPU frequency: 0 Hz\n"
     ]
    },
    {
     "name": "stdout",
     "output_type": "stream",
     "text": [
      "31/31 [==============================] - 43s 1s/step - loss: 2.0292 - categorical_accuracy: 0.1653 - val_loss: 1.9671 - val_categorical_accuracy: 0.1577\n",
      "Epoch 2/60\n",
      "31/31 [==============================] - 38s 1s/step - loss: 1.8991 - categorical_accuracy: 0.1913 - val_loss: 1.8177 - val_categorical_accuracy: 0.1826\n",
      "Epoch 3/60\n",
      "31/31 [==============================] - 38s 1s/step - loss: 1.8033 - categorical_accuracy: 0.2245 - val_loss: 1.7623 - val_categorical_accuracy: 0.2324\n",
      "Epoch 4/60\n",
      "31/31 [==============================] - 45s 1s/step - loss: 1.7697 - categorical_accuracy: 0.2672 - val_loss: 1.8462 - val_categorical_accuracy: 0.1950\n",
      "Epoch 5/60\n",
      "31/31 [==============================] - 40s 1s/step - loss: 1.6326 - categorical_accuracy: 0.3202 - val_loss: 2.1887 - val_categorical_accuracy: 0.2407\n",
      "Epoch 6/60\n",
      "31/31 [==============================] - 40s 1s/step - loss: 1.4812 - categorical_accuracy: 0.3836 - val_loss: 2.1170 - val_categorical_accuracy: 0.2531\n",
      "Epoch 7/60\n",
      "31/31 [==============================] - 38s 1s/step - loss: 1.3649 - categorical_accuracy: 0.4345 - val_loss: 1.8013 - val_categorical_accuracy: 0.2863\n",
      "Epoch 8/60\n",
      "31/31 [==============================] - 38s 1s/step - loss: 1.2397 - categorical_accuracy: 0.4886 - val_loss: 1.7694 - val_categorical_accuracy: 0.3444\n",
      "Epoch 9/60\n",
      "31/31 [==============================] - 39s 1s/step - loss: 1.1304 - categorical_accuracy: 0.5291 - val_loss: 1.9245 - val_categorical_accuracy: 0.3402\n",
      "Epoch 10/60\n",
      "31/31 [==============================] - 40s 1s/step - loss: 1.0760 - categorical_accuracy: 0.5385 - val_loss: 1.2802 - val_categorical_accuracy: 0.4564\n",
      "Epoch 11/60\n",
      "31/31 [==============================] - 41s 1s/step - loss: 0.9570 - categorical_accuracy: 0.5800 - val_loss: 1.7171 - val_categorical_accuracy: 0.3651\n",
      "Epoch 12/60\n",
      "31/31 [==============================] - 38s 1s/step - loss: 0.8881 - categorical_accuracy: 0.6247 - val_loss: 1.9342 - val_categorical_accuracy: 0.3361\n",
      "Epoch 13/60\n",
      " 3/31 [=>............................] - ETA: 39s - loss: 0.7483 - categorical_accuracy: 0.6562"
     ]
    }
   ],
   "source": [
    "main_model.fit(X_train,to_categorical(y_train) ,epochs=60,\n",
    "                            validation_data=(X_test, to_categorical(y_test)))"
   ]
  },
  {
   "cell_type": "code",
   "execution_count": null,
   "metadata": {},
   "outputs": [
    {
     "name": "stdout",
     "output_type": "stream",
     "text": [
      "8/8 [==============================] - 2s 235ms/step - loss: 0.2697 - categorical_accuracy: 0.9253\n"
     ]
    },
    {
     "data": {
      "text/plain": [
       "[0.26972249150276184, 0.9253112077713013]"
      ]
     },
     "execution_count": 11,
     "metadata": {},
     "output_type": "execute_result"
    }
   ],
   "source": [
    "main_model.evaluate(X_test, to_categorical(y_test))"
   ]
  },
  {
   "cell_type": "code",
   "execution_count": 12,
   "metadata": {},
   "outputs": [
    {
     "name": "stderr",
     "output_type": "stream",
     "text": [
      "WARNING:absl:Found untraced functions such as _update_step_xla, _jit_compiled_convolution_op, _jit_compiled_convolution_op, _jit_compiled_convolution_op, _jit_compiled_convolution_op while saving (showing 5 of 17). These functions will not be directly callable after loading.\n"
     ]
    },
    {
     "name": "stdout",
     "output_type": "stream",
     "text": [
      "INFO:tensorflow:Assets written to: ensemble_9544_mobilenetv1/assets\n"
     ]
    },
    {
     "name": "stderr",
     "output_type": "stream",
     "text": [
      "INFO:tensorflow:Assets written to: ensemble_9544_mobilenetv1/assets\n"
     ]
    }
   ],
   "source": [
    "main_model.save(\"ensemble_9544_mobilenetv1\")"
   ]
  },
  {
   "cell_type": "code",
   "execution_count": null,
   "metadata": {},
   "outputs": [],
   "source": []
  }
 ],
 "metadata": {
  "kernelspec": {
   "display_name": "thesis",
   "language": "python",
   "name": "python3"
  },
  "language_info": {
   "codemirror_mode": {
    "name": "ipython",
    "version": 3
   },
   "file_extension": ".py",
   "mimetype": "text/x-python",
   "name": "python",
   "nbconvert_exporter": "python",
   "pygments_lexer": "ipython3",
   "version": "3.10.9"
  },
  "orig_nbformat": 4,
  "vscode": {
   "interpreter": {
    "hash": "0910852971f271316cedd65fb9a6fba74ce8d38f423ea6cfef93e6992f0711c2"
   }
  }
 },
 "nbformat": 4,
 "nbformat_minor": 2
}
